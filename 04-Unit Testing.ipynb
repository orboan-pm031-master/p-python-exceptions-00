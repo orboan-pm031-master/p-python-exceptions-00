{
 "cells": [
  {
   "cell_type": "markdown",
   "metadata": {},
   "source": [
    "# Unit Testing\n",
    "\n",
    "Equally important as writing good code is writing good tests. Better to find bugs yourself than have them reported to you by end users!\n",
    "\n",
    "For this section we'll be working with files outside the notebook. We'll save our code to a .py file, and then save our test script to another .py file. Normally we would code these files using a text editor like Brackets or Atom, or inside an IDE like Spyder or Pycharm. But, since we're here, let's use Jupyter!\n",
    "\n",
    "Recall that with some IPython magic we can write the contents of a cell to a file using `%%writefile`.<br>\n",
    "Something we haven't seen yet; you can run terminal commands from a jupyter cell using `!`\n",
    "\n",
    "## Testing tools\n",
    "\n",
    "There are dozens of good testing libraries out there. Most are third-party packages that require an install, such as:\n",
    "\n",
    "* [pylint](https://www.pylint.org/)\n",
    "* [pyflakes](https://pypi.python.org/pypi/pyflakes/)\n",
    "* [pep8](https://pypi.python.org/pypi/pep8)\n",
    "\n",
    "These are simple tools that merely look at your code, and they'll tell you if there are style issues or simple problems like variable names being called before assignment.\n",
    "\n",
    "A far better way to test your code is to write tests that send sample data to your program, and compare what's returned to a desired outcome.<br>Two such tools are available from the standard library:\n",
    "\n",
    "* [unittest](https://docs.python.org/3/library/unittest.html)\n",
    "* [doctest](https://docs.python.org/3/library/doctest.html)\n",
    "\n",
    "Let's look at pylint first, then we'll do some heavier lifting with unittest.\n"
   ]
  },
  {
   "cell_type": "markdown",
   "metadata": {},
   "source": [
    "## `pylint`\n",
    "\n",
    "`pylint` tests for style as well as some very basic program logic."
   ]
  },
  {
   "cell_type": "markdown",
   "metadata": {},
   "source": [
    "First, if you don't have it already (and you probably do, as it's part of the Anaconda distribution), you should install `pylint`.<br>Once that's done feel free to comment out the cell, you won't need it anymore."
   ]
  },
  {
   "cell_type": "code",
   "execution_count": 1,
   "metadata": {
    "execution": {
     "iopub.execute_input": "2023-04-14T16:06:24.382376Z",
     "iopub.status.busy": "2023-04-14T16:06:24.381590Z",
     "iopub.status.idle": "2023-04-14T16:06:49.855362Z",
     "shell.execute_reply": "2023-04-14T16:06:49.852761Z",
     "shell.execute_reply.started": "2023-04-14T16:06:24.382309Z"
    },
    "tags": []
   },
   "outputs": [
    {
     "name": "stdout",
     "output_type": "stream",
     "text": [
      "Collecting pylint\n",
      "  Downloading pylint-2.17.2-py3-none-any.whl (536 kB)\n",
      "\u001b[2K     \u001b[90m━━━━━━━━━━━━━━━━━━━━━━━━━━━━━━━━━━━━━━━\u001b[0m \u001b[32m536.0/536.0 kB\u001b[0m \u001b[31m3.3 MB/s\u001b[0m eta \u001b[36m0:00:00\u001b[0m00:01\u001b[0m00:01\u001b[0m\n",
      "\u001b[?25hRequirement already satisfied: tomlkit>=0.10.1 in /opt/conda/lib/python3.10/site-packages (from pylint) (0.11.7)\n",
      "Requirement already satisfied: platformdirs>=2.2.0 in /opt/conda/lib/python3.10/site-packages (from pylint) (3.0.0)\n",
      "Collecting mccabe<0.8,>=0.6\n",
      "  Downloading mccabe-0.7.0-py2.py3-none-any.whl (7.3 kB)\n",
      "Collecting isort<6,>=4.2.5\n",
      "  Downloading isort-5.12.0-py3-none-any.whl (91 kB)\n",
      "\u001b[2K     \u001b[90m━━━━━━━━━━━━━━━━━━━━━━━━━━━━━━━━━━━━━━━\u001b[0m \u001b[32m91.2/91.2 kB\u001b[0m \u001b[31m970.1 kB/s\u001b[0m eta \u001b[36m0:00:00\u001b[0ma \u001b[36m0:00:01\u001b[0m\n",
      "\u001b[?25hRequirement already satisfied: tomli>=1.1.0 in /opt/conda/lib/python3.10/site-packages (from pylint) (2.0.1)\n",
      "Collecting astroid<=2.17.0-dev0,>=2.15.2\n",
      "  Downloading astroid-2.15.2-py3-none-any.whl (277 kB)\n",
      "\u001b[2K     \u001b[90m━━━━━━━━━━━━━━━━━━━━━━━━━━━━━━━━━━━━━━━\u001b[0m \u001b[32m277.9/277.9 kB\u001b[0m \u001b[31m2.2 MB/s\u001b[0m eta \u001b[36m0:00:00\u001b[0m00:01\u001b[0m\n",
      "\u001b[?25hRequirement already satisfied: dill>=0.2 in /opt/conda/lib/python3.10/site-packages (from pylint) (0.3.6)\n",
      "Collecting lazy-object-proxy>=1.4.0\n",
      "  Downloading lazy_object_proxy-1.9.0-cp310-cp310-manylinux_2_5_x86_64.manylinux1_x86_64.manylinux_2_17_x86_64.manylinux2014_x86_64.whl (63 kB)\n",
      "\u001b[2K     \u001b[90m━━━━━━━━━━━━━━━━━━━━━━━━━━━━━━━━━━━━━━━\u001b[0m \u001b[32m63.3/63.3 kB\u001b[0m \u001b[31m745.7 kB/s\u001b[0m eta \u001b[36m0:00:00\u001b[0ma \u001b[36m0:00:01\u001b[0m\n",
      "\u001b[?25hRequirement already satisfied: wrapt<2,>=1.11 in /opt/conda/lib/python3.10/site-packages (from astroid<=2.17.0-dev0,>=2.15.2->pylint) (1.15.0)\n",
      "Requirement already satisfied: typing-extensions>=4.0.0 in /opt/conda/lib/python3.10/site-packages (from astroid<=2.17.0-dev0,>=2.15.2->pylint) (4.4.0)\n",
      "Installing collected packages: mccabe, lazy-object-proxy, isort, astroid, pylint\n",
      "Successfully installed astroid-2.15.2 isort-5.12.0 lazy-object-proxy-1.9.0 mccabe-0.7.0 pylint-2.17.2\n"
     ]
    }
   ],
   "source": [
    "! pip install pylint"
   ]
  },
  {
   "cell_type": "markdown",
   "metadata": {},
   "source": [
    "Let's save a very simple script:"
   ]
  },
  {
   "cell_type": "code",
   "execution_count": 2,
   "metadata": {
    "execution": {
     "iopub.execute_input": "2023-04-14T16:07:26.651248Z",
     "iopub.status.busy": "2023-04-14T16:07:26.649980Z",
     "iopub.status.idle": "2023-04-14T16:07:26.699652Z",
     "shell.execute_reply": "2023-04-14T16:07:26.697618Z",
     "shell.execute_reply.started": "2023-04-14T16:07:26.651130Z"
    },
    "tags": []
   },
   "outputs": [
    {
     "name": "stdout",
     "output_type": "stream",
     "text": [
      "Overwriting simple1.py\n"
     ]
    }
   ],
   "source": [
    "%%writefile simple1.py\n",
    "a = 1\n",
    "b = 2\n",
    "print(a)\n",
    "print(B)"
   ]
  },
  {
   "cell_type": "markdown",
   "metadata": {},
   "source": [
    "Now let's check it using pylint"
   ]
  },
  {
   "cell_type": "code",
   "execution_count": 3,
   "metadata": {
    "execution": {
     "iopub.execute_input": "2023-04-14T16:07:42.113652Z",
     "iopub.status.busy": "2023-04-14T16:07:42.112882Z",
     "iopub.status.idle": "2023-04-14T16:07:43.903906Z",
     "shell.execute_reply": "2023-04-14T16:07:43.901342Z",
     "shell.execute_reply.started": "2023-04-14T16:07:42.113588Z"
    },
    "tags": []
   },
   "outputs": [
    {
     "name": "stdout",
     "output_type": "stream",
     "text": [
      "************* Module simple1\n",
      "simple1.py:1:0: C0114: Missing module docstring (missing-module-docstring)\n",
      "simple1.py:1:0: C0103: Constant name \"a\" doesn't conform to UPPER_CASE naming style (invalid-name)\n",
      "simple1.py:2:0: C0103: Constant name \"b\" doesn't conform to UPPER_CASE naming style (invalid-name)\n",
      "simple1.py:4:6: E0602: Undefined variable 'B' (undefined-variable)\n",
      "\n",
      "-----------------------------------\n",
      "Your code has been rated at 0.00/10\n",
      "\n"
     ]
    }
   ],
   "source": [
    "! pylint simple1.py"
   ]
  },
  {
   "cell_type": "markdown",
   "metadata": {},
   "source": [
    "Pylint first lists some styling issues - it would like to see an extra newline at the end, modules and function definitions should have descriptive docstrings, and single characters are a poor choice for variable names.\n",
    "\n",
    "More importantly, however, pylint identified an error in the program - a variable called before assignment. This needs fixing.\n",
    "\n",
    "Note that pylint scored our program a negative 12.5 out of 10. Let's try to improve that!"
   ]
  },
  {
   "cell_type": "code",
   "execution_count": 4,
   "metadata": {
    "execution": {
     "iopub.execute_input": "2023-04-14T16:08:37.970689Z",
     "iopub.status.busy": "2023-04-14T16:08:37.969927Z",
     "iopub.status.idle": "2023-04-14T16:08:38.017224Z",
     "shell.execute_reply": "2023-04-14T16:08:38.015302Z",
     "shell.execute_reply.started": "2023-04-14T16:08:37.970618Z"
    },
    "tags": []
   },
   "outputs": [
    {
     "name": "stdout",
     "output_type": "stream",
     "text": [
      "Overwriting simple1.py\n"
     ]
    }
   ],
   "source": [
    "%%writefile simple1.py\n",
    "\"\"\"\n",
    "A very simple script.\n",
    "\"\"\"\n",
    "\n",
    "def myfunc():\n",
    "    \"\"\"\n",
    "    An extremely simple function.\n",
    "    \"\"\"\n",
    "    first = 1\n",
    "    second = 2\n",
    "    print(first)\n",
    "    print(second)\n",
    "\n",
    "myfunc()"
   ]
  },
  {
   "cell_type": "code",
   "execution_count": 5,
   "metadata": {
    "execution": {
     "iopub.execute_input": "2023-04-14T16:08:51.956341Z",
     "iopub.status.busy": "2023-04-14T16:08:51.955587Z",
     "iopub.status.idle": "2023-04-14T16:08:53.193284Z",
     "shell.execute_reply": "2023-04-14T16:08:53.191471Z",
     "shell.execute_reply.started": "2023-04-14T16:08:51.956277Z"
    },
    "tags": []
   },
   "outputs": [
    {
     "name": "stdout",
     "output_type": "stream",
     "text": [
      "\n",
      "--------------------------------------------------------------------\n",
      "Your code has been rated at 10.00/10 (previous run: 0.00/10, +10.00)\n",
      "\n"
     ]
    }
   ],
   "source": [
    "! pylint simple1.py"
   ]
  },
  {
   "cell_type": "markdown",
   "metadata": {},
   "source": [
    "Much better! Our score climbed to 8.33 out of 10. Unfortunately, the final newline has to do with how jupyter writes to a file, and there's not much we can do about that here. Still, pylint helped us troubleshoot some of our problems. But what if the problem was more complex?"
   ]
  },
  {
   "cell_type": "code",
   "execution_count": 6,
   "metadata": {
    "execution": {
     "iopub.execute_input": "2023-04-14T16:09:51.324599Z",
     "iopub.status.busy": "2023-04-14T16:09:51.323788Z",
     "iopub.status.idle": "2023-04-14T16:09:51.364707Z",
     "shell.execute_reply": "2023-04-14T16:09:51.362662Z",
     "shell.execute_reply.started": "2023-04-14T16:09:51.324521Z"
    },
    "tags": []
   },
   "outputs": [
    {
     "name": "stdout",
     "output_type": "stream",
     "text": [
      "Overwriting simple2.py\n"
     ]
    }
   ],
   "source": [
    "%%writefile simple2.py\n",
    "\"\"\"\n",
    "A very simple script.\n",
    "\"\"\"\n",
    "\n",
    "def myfunc():\n",
    "    \"\"\"\n",
    "    An extremely simple function.\n",
    "    \"\"\"\n",
    "    first = 1\n",
    "    second = 2\n",
    "    print(first)\n",
    "    print('second')\n",
    "\n",
    "myfunc()"
   ]
  },
  {
   "cell_type": "code",
   "execution_count": 7,
   "metadata": {
    "execution": {
     "iopub.execute_input": "2023-04-14T16:09:54.707573Z",
     "iopub.status.busy": "2023-04-14T16:09:54.706796Z",
     "iopub.status.idle": "2023-04-14T16:09:55.914973Z",
     "shell.execute_reply": "2023-04-14T16:09:55.912681Z",
     "shell.execute_reply.started": "2023-04-14T16:09:54.707507Z"
    },
    "tags": []
   },
   "outputs": [
    {
     "name": "stdout",
     "output_type": "stream",
     "text": [
      "************* Module simple2\n",
      "simple2.py:10:4: W0612: Unused variable 'second' (unused-variable)\n",
      "\n",
      "-----------------------------------\n",
      "Your code has been rated at 8.33/10\n",
      "\n"
     ]
    }
   ],
   "source": [
    "! pylint simple2.py"
   ]
  },
  {
   "cell_type": "markdown",
   "metadata": {},
   "source": [
    "pylint tells us there's an unused variable in line 10, but it doesn't know that we might get an unexpected output from line 12! For this we need a more robust set of tools. That's where `unittest` comes in."
   ]
  },
  {
   "cell_type": "markdown",
   "metadata": {},
   "source": [
    "## `unittest`\n",
    "`unittest` lets you write your own test programs. The goal is to send a specific set of data to your program, and analyze the returned results against an expected result. \n",
    "\n",
    "Let's generate a simple script that capitalizes words in a given string. We'll call it **cap.py**."
   ]
  },
  {
   "cell_type": "code",
   "execution_count": 8,
   "metadata": {
    "execution": {
     "iopub.execute_input": "2023-04-14T16:16:43.518791Z",
     "iopub.status.busy": "2023-04-14T16:16:43.518017Z",
     "iopub.status.idle": "2023-04-14T16:16:43.530460Z",
     "shell.execute_reply": "2023-04-14T16:16:43.528335Z",
     "shell.execute_reply.started": "2023-04-14T16:16:43.518710Z"
    },
    "tags": []
   },
   "outputs": [
    {
     "name": "stdout",
     "output_type": "stream",
     "text": [
      "Overwriting cap.py\n"
     ]
    }
   ],
   "source": [
    "%%writefile cap.py\n",
    "def cap_text(text):\n",
    "    return text.capitalize()"
   ]
  },
  {
   "cell_type": "markdown",
   "metadata": {},
   "source": [
    "Now we'll write a test script. We can call it whatever we want, but **test_cap.py** seems an obvious choice.\n",
    "\n",
    "When writing test functions, it's best to go from simple to complex, as each function will be run in order. Here we'll test simple, one-word strings, followed by a test of multiple word strings."
   ]
  },
  {
   "cell_type": "code",
   "execution_count": 9,
   "metadata": {
    "execution": {
     "iopub.execute_input": "2023-04-14T16:18:16.134705Z",
     "iopub.status.busy": "2023-04-14T16:18:16.133943Z",
     "iopub.status.idle": "2023-04-14T16:18:16.145964Z",
     "shell.execute_reply": "2023-04-14T16:18:16.144098Z",
     "shell.execute_reply.started": "2023-04-14T16:18:16.134640Z"
    },
    "tags": []
   },
   "outputs": [
    {
     "name": "stdout",
     "output_type": "stream",
     "text": [
      "Overwriting test_cap.py\n"
     ]
    }
   ],
   "source": [
    "%%writefile test_cap.py\n",
    "import unittest\n",
    "import cap\n",
    "\n",
    "class TestCap(unittest.TestCase):\n",
    "    \n",
    "    def test_one_word(self):\n",
    "        text = 'python'\n",
    "        result = cap.cap_text(text)\n",
    "        self.assertEqual(result, 'Python')\n",
    "        \n",
    "    def test_multiple_words(self):\n",
    "        text = 'monty python'\n",
    "        result = cap.cap_text(text)\n",
    "        self.assertEqual(result, 'Monty Python')\n",
    "        \n",
    "if __name__ == '__main__':\n",
    "    unittest.main()"
   ]
  },
  {
   "cell_type": "code",
   "execution_count": 10,
   "metadata": {
    "execution": {
     "iopub.execute_input": "2023-04-14T16:18:20.870003Z",
     "iopub.status.busy": "2023-04-14T16:18:20.869235Z",
     "iopub.status.idle": "2023-04-14T16:18:21.123814Z",
     "shell.execute_reply": "2023-04-14T16:18:21.121645Z",
     "shell.execute_reply.started": "2023-04-14T16:18:20.869938Z"
    },
    "tags": []
   },
   "outputs": [
    {
     "name": "stdout",
     "output_type": "stream",
     "text": [
      "F.\n",
      "======================================================================\n",
      "FAIL: test_multiple_words (__main__.TestCap)\n",
      "----------------------------------------------------------------------\n",
      "Traceback (most recent call last):\n",
      "  File \"/home/orboan/ilg/p-python-exceptions-00/test_cap.py\", line 14, in test_multiple_words\n",
      "    self.assertEqual(result, 'Monty Python')\n",
      "AssertionError: 'Monty python' != 'Monty Python'\n",
      "- Monty python\n",
      "?       ^\n",
      "+ Monty Python\n",
      "?       ^\n",
      "\n",
      "\n",
      "----------------------------------------------------------------------\n",
      "Ran 2 tests in 0.001s\n",
      "\n",
      "FAILED (failures=1)\n"
     ]
    }
   ],
   "source": [
    "! python test_cap.py"
   ]
  },
  {
   "cell_type": "markdown",
   "metadata": {},
   "source": [
    "What happened? It turns out that the `.capitalize()` method only capitalizes the first letter of the first word in a string. Doing a little research on string methods, we find that `.title()` might give us what we want."
   ]
  },
  {
   "cell_type": "code",
   "execution_count": 11,
   "metadata": {
    "execution": {
     "iopub.execute_input": "2023-04-14T16:18:53.618303Z",
     "iopub.status.busy": "2023-04-14T16:18:53.617496Z",
     "iopub.status.idle": "2023-04-14T16:18:53.630738Z",
     "shell.execute_reply": "2023-04-14T16:18:53.628720Z",
     "shell.execute_reply.started": "2023-04-14T16:18:53.618232Z"
    },
    "tags": []
   },
   "outputs": [
    {
     "name": "stdout",
     "output_type": "stream",
     "text": [
      "Overwriting cap.py\n"
     ]
    }
   ],
   "source": [
    "%%writefile cap.py\n",
    "def cap_text(text):\n",
    "    return text.title()  # replace .capitalize() with .title()"
   ]
  },
  {
   "cell_type": "code",
   "execution_count": 12,
   "metadata": {
    "execution": {
     "iopub.execute_input": "2023-04-14T16:18:57.555008Z",
     "iopub.status.busy": "2023-04-14T16:18:57.554239Z",
     "iopub.status.idle": "2023-04-14T16:18:57.806173Z",
     "shell.execute_reply": "2023-04-14T16:18:57.803799Z",
     "shell.execute_reply.started": "2023-04-14T16:18:57.554943Z"
    },
    "tags": []
   },
   "outputs": [
    {
     "name": "stdout",
     "output_type": "stream",
     "text": [
      "..\n",
      "----------------------------------------------------------------------\n",
      "Ran 2 tests in 0.000s\n",
      "\n",
      "OK\n"
     ]
    }
   ],
   "source": [
    "! python test_cap.py"
   ]
  },
  {
   "cell_type": "markdown",
   "metadata": {},
   "source": [
    "Hey, it passed! But have we tested all cases? Let's add another test to **test_cap.py** to see if it handles words with apostrophes, like *don't*.\n",
    "\n",
    "In a text editor this would be easy, but in Jupyter we have to start from scratch."
   ]
  },
  {
   "cell_type": "code",
   "execution_count": 12,
   "metadata": {},
   "outputs": [
    {
     "name": "stdout",
     "output_type": "stream",
     "text": [
      "Overwriting test_cap.py\n"
     ]
    }
   ],
   "source": [
    "%%writefile test_cap.py\n",
    "import unittest\n",
    "import cap\n",
    "\n",
    "class TestCap(unittest.TestCase):\n",
    "    \n",
    "    def test_one_word(self):\n",
    "        text = 'python'\n",
    "        result = cap.cap_text(text)\n",
    "        self.assertEqual(result, 'Python')\n",
    "        \n",
    "    def test_multiple_words(self):\n",
    "        text = 'monty python'\n",
    "        result = cap.cap_text(text)\n",
    "        self.assertEqual(result, 'Monty Python')\n",
    "        \n",
    "    def test_with_apostrophes(self):\n",
    "        text = \"monty python's flying circus\"\n",
    "        result = cap.cap_text(text)\n",
    "        self.assertEqual(result, \"Monty Python's Flying Circus\")\n",
    "        \n",
    "if __name__ == '__main__':\n",
    "    unittest.main()"
   ]
  },
  {
   "cell_type": "code",
   "execution_count": 13,
   "metadata": {},
   "outputs": [
    {
     "name": "stderr",
     "output_type": "stream",
     "text": [
      "..F\n",
      "======================================================================\n",
      "FAIL: test_with_apostrophes (__main__.TestCap)\n",
      "----------------------------------------------------------------------\n",
      "Traceback (most recent call last):\n",
      "  File \"test_cap.py\", line 19, in test_with_apostrophes\n",
      "    self.assertEqual(result, \"Monty Python's Flying Circus\")\n",
      "AssertionError: \"Monty Python'S Flying Circus\" != \"Monty Python's Flying Circus\"\n",
      "- Monty Python'S Flying Circus\n",
      "?              ^\n",
      "+ Monty Python's Flying Circus\n",
      "?              ^\n",
      "\n",
      "\n",
      "----------------------------------------------------------------------\n",
      "Ran 3 tests in 0.000s\n",
      "\n",
      "FAILED (failures=1)\n"
     ]
    }
   ],
   "source": [
    "! python test_cap.py"
   ]
  },
  {
   "cell_type": "markdown",
   "metadata": {},
   "source": [
    "Now we have to find a solution that handles apostrophes! There is one (look up `capwords` from the `string` module) but we'll leave that as an exercise for the reader."
   ]
  },
  {
   "cell_type": "markdown",
   "metadata": {},
   "source": [
    "Great! Now you should have a basic understanding of unit testing!"
   ]
  }
 ],
 "metadata": {
  "kernelspec": {
   "display_name": "Python 3",
   "language": "python",
   "name": "python3"
  },
  "language_info": {
   "codemirror_mode": {
    "name": "ipython",
    "version": 3
   },
   "file_extension": ".py",
   "mimetype": "text/x-python",
   "name": "python",
   "nbconvert_exporter": "python",
   "pygments_lexer": "ipython3",
   "version": "3.10.9"
  }
 },
 "nbformat": 4,
 "nbformat_minor": 4
}
